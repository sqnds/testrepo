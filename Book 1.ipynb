{
    "cells": [
        {
            "cell_type": "markdown",
            "metadata": {},
            "source": "\nimport os, types\nimport pandas as pd\nfrom botocore.client import Config\nimport ibm_boto3\n\ndef __iter__(self): return 0\n\n# @hidden_cell\n# The following code accesses a file in your IBM Cloud Object Storage. It includes your credentials.\n# You might want to remove those credentials before you share the notebook.\nclient_2082b9c6b02e468fa2ffdb5d7f39f7e1 = ibm_boto3.client(service_name='s3',\n    ibm_api_key_id='xxx',\n    ibm_auth_endpoint=\"xxx\",\n    config=Config(signature_version='xxx'),\n    endpoint_url='xxx')\n\nbody = client_2082b9c6b02e468fa2ffdb5d7f39f7e1.get_object(Bucket='myfirstproject-donotdelete-pr-xxx',Key='Book1.xlsx')['Body']\n\ndf_data_0 = pd.read_excel(body.read())\ndf_data_0.head()\n"
        },
        {
            "cell_type": "markdown",
            "metadata": {},
            "source": ""
        }
    ],
    "metadata": {
        "kernelspec": {
            "display_name": "Python 3.9 with Spark",
            "language": "python3",
            "name": "python39"
        },
        "language_info": {
            "codemirror_mode": {
                "name": "ipython",
                "version": 3
            },
            "file_extension": ".py",
            "mimetype": "text/x-python",
            "name": "python",
            "nbconvert_exporter": "python",
            "pygments_lexer": "ipython3",
            "version": "3.9.7"
        }
    },
    "nbformat": 4,
    "nbformat_minor": 1
}